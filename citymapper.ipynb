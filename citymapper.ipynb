{
 "cells": [
  {
   "cell_type": "code",
   "execution_count": 1,
   "metadata": {},
   "outputs": [
    {
     "name": "stderr",
     "output_type": "stream",
     "text": [
      "/opt/anaconda3/lib/python3.7/site-packages/IPython/core/interactiveshell.py:3058: DtypeWarning: Columns (4) have mixed types. Specify dtype option on import or set low_memory=False.\n",
      "  interactivity=interactivity, compiler=compiler, result=result)\n"
     ]
    }
   ],
   "source": [
    "import pandas as pd\n",
    "routes = pd.read_csv('routes.txt', sep=\",\")\n",
    "trips = pd.read_csv('trips.txt', sep=\",\")\n",
    "stop_times = pd.read_csv('stop_times.txt', sep=\",\")\n",
    "calendar = pd.read_csv('calendar.txt', sep=\",\")\n",
    "\n",
    "stop_times['start_id'] = stop_times['stop_id'].shift()\n",
    "stop_times['start_time_from_last_station'] = stop_times['departure_time'].shift()"
   ]
  },
  {
   "cell_type": "code",
   "execution_count": 2,
   "metadata": {},
   "outputs": [],
   "source": [
    "final = pd.merge(stop_times, trips, on='trip_id')\n",
    "\n",
    "final = pd.merge(final, routes, on='route_id')"
   ]
  },
  {
   "cell_type": "code",
   "execution_count": null,
   "metadata": {},
   "outputs": [],
   "source": []
  },
  {
   "cell_type": "code",
   "execution_count": 3,
   "metadata": {},
   "outputs": [],
   "source": [
    "final2 = pd.merge(final, calendar, on='service_id')"
   ]
  },
  {
   "cell_type": "code",
   "execution_count": 4,
   "metadata": {},
   "outputs": [],
   "source": [
    "\n",
    "final2['start_id'] = final['stop_id'].shift()\n",
    "final2['start_time_from_last_station'] = final['departure_time'].shift()"
   ]
  },
  {
   "cell_type": "code",
   "execution_count": 5,
   "metadata": {},
   "outputs": [],
   "source": [
    "\n",
    "import numpy as np\n",
    "final2.loc[final2['stop_sequence'] == 0, 'start_id'] = np.NAN\n",
    "final2.loc[final2['stop_sequence'] == 0, 'start_time_from_last_station'] = np.NAN"
   ]
  },
  {
   "cell_type": "code",
   "execution_count": 6,
   "metadata": {},
   "outputs": [],
   "source": [
    "final2 = final2[final2['start_id'].notna()]"
   ]
  },
  {
   "cell_type": "code",
   "execution_count": 7,
   "metadata": {},
   "outputs": [],
   "source": [
    "#final2['start_date'] = final2['start_date'].apply(lambda x: pd.to_datetime(str(x), format='%Y%m%d'))\n",
    "#final2['end_date'] = final2['end_date'].apply(lambda x: pd.to_datetime(str(x), format='%Y%m%d')) "
   ]
  },
  {
   "cell_type": "code",
   "execution_count": 8,
   "metadata": {},
   "outputs": [],
   "source": [
    "final2 = final2.drop(columns=['service_id', 'trip_id', 'trip_headsign', 'trip_short_name', 'direction_id', 'block_id', 'wheelchair_accessible', 'bikes_allowed', 'trip_desc', 'shape_id', 'agency_id', 'route_desc'])\n",
    "\n",
    "final2 = final2.drop(columns=['stop_time_desc', 'pickup_type', 'drop_off_type'])\n"
   ]
  },
  {
   "cell_type": "code",
   "execution_count": 9,
   "metadata": {},
   "outputs": [],
   "source": [
    "final2 = final2.drop(columns=['route_long_name', 'route_url', 'route_color', 'route_text_color'])\n"
   ]
  },
  {
   "cell_type": "code",
   "execution_count": 10,
   "metadata": {
    "scrolled": true
   },
   "outputs": [
    {
     "name": "stdout",
     "output_type": "stream",
     "text": [
      "half\n"
     ]
    }
   ],
   "source": [
    "final2['new_arrival_time'] = '01 ' + final2['arrival_time']\n",
    "\n",
    "final2.loc[final2['arrival_time'].str.contains('^24:'), 'new_arrival_time'] = '02 00:' + final2['arrival_time'].str[3:]\n",
    "final2.loc[final2['arrival_time'].str.contains('^25:'), 'new_arrival_time'] = '02 01:' + final2['arrival_time'].str[3:]\n",
    "final2.loc[final2['arrival_time'].str.contains('^26:'), 'new_arrival_time'] = '02 02:' + final2['arrival_time'].str[3:]\n",
    "final2.loc[final2['arrival_time'].str.contains('^27:'), 'new_arrival_time'] = '02 03:' + final2['arrival_time'].str[3:]\n",
    "\n",
    "print('half')\n"
   ]
  },
  {
   "cell_type": "code",
   "execution_count": 11,
   "metadata": {},
   "outputs": [],
   "source": [
    "\n",
    "final2['new_arrival_time'] =  pd.to_datetime(final2['new_arrival_time'], format='%d %H:%M:%S')\n"
   ]
  },
  {
   "cell_type": "code",
   "execution_count": 12,
   "metadata": {},
   "outputs": [],
   "source": [
    "final2['new_departure_time'] = '01 ' + final2['departure_time']\n",
    "\n",
    "final2.loc[final2['departure_time'].str.contains('^24:'), 'new_departure_time'] = '02 00:' + final2['departure_time'].str[3:]\n",
    "final2.loc[final2['departure_time'].str.contains('^25:'), 'new_departure_time'] = '02 01:' + final2['departure_time'].str[3:]\n",
    "final2.loc[final2['departure_time'].str.contains('^26:'), 'new_departure_time'] = '02 02:' + final2['departure_time'].str[3:]\n",
    "final2.loc[final2['departure_time'].str.contains('^27:'), 'new_departure_time'] = '02 03:' + final2['departure_time'].str[3:]\n",
    "\n",
    "final2['new_departure_time'] =  pd.to_datetime(final2['new_departure_time'], format='%d %H:%M:%S')\n",
    "\n",
    "\n"
   ]
  },
  {
   "cell_type": "code",
   "execution_count": 13,
   "metadata": {},
   "outputs": [],
   "source": [
    "final2['new_start_time_from_last_station'] = '01 ' + final2['start_time_from_last_station']\n",
    "final2.loc[final2['start_time_from_last_station'].str.contains('^24:'), 'new_start_time_from_last_station'] = '02 00:' + final2['start_time_from_last_station'].str[3:]\n",
    "final2.loc[final2['start_time_from_last_station'].str.contains('^25:'), 'new_start_time_from_last_station'] = '02 01:' + final2['start_time_from_last_station'].str[3:]\n",
    "final2.loc[final2['start_time_from_last_station'].str.contains('^26:'), 'new_start_time_from_last_station'] = '02 02:' + final2['start_time_from_last_station'].str[3:]\n",
    "final2.loc[final2['start_time_from_last_station'].str.contains('^27:'), 'new_start_time_from_last_station'] = '02 03:' + final2['start_time_from_last_station'].str[3:]\n",
    "final2['new_start_time_from_last_station'] =  pd.to_datetime(final2['new_start_time_from_last_station'], format='%d %H:%M:%S')\n"
   ]
  },
  {
   "cell_type": "code",
   "execution_count": 14,
   "metadata": {},
   "outputs": [],
   "source": [
    "del final2['arrival_time']\n",
    "del final2['departure_time']\n",
    "del final2['start_time_from_last_station']\n",
    "del final2['stop_sequence']\n"
   ]
  },
  {
   "cell_type": "code",
   "execution_count": 16,
   "metadata": {},
   "outputs": [],
   "source": [
    "final2['new_arrival_time'] = (pd.to_datetime(final2['new_arrival_time']).dt.day * 24 + pd.to_datetime(final2['new_arrival_time']).dt.hour) * 3600 + pd.to_datetime(final2['new_arrival_time']).dt.minute * 60\n",
    "\n",
    "final2['new_start_time_from_last_station'] = (pd.to_datetime(final2['new_start_time_from_last_station']).dt.day * 24 + pd.to_datetime(final2['new_start_time_from_last_station']).dt.hour) * 3600 + pd.to_datetime(final2['new_start_time_from_last_station']).dt.minute * 60\n",
    "\n",
    "\n"
   ]
  },
  {
   "cell_type": "code",
   "execution_count": 17,
   "metadata": {},
   "outputs": [],
   "source": [
    "final2['new_departure_time'] = (pd.to_datetime(final2['new_departure_time']).dt.day * 24 + pd.to_datetime(final2['new_departure_time']).dt.hour) * 3600 + pd.to_datetime(final2['new_departure_time']).dt.minute * 60\n",
    "\n",
    "\n"
   ]
  },
  {
   "cell_type": "code",
   "execution_count": 18,
   "metadata": {},
   "outputs": [],
   "source": [
    "stops = final2.to_csv('transits.csv', index=False)"
   ]
  },
  {
   "cell_type": "code",
   "execution_count": null,
   "metadata": {},
   "outputs": [],
   "source": []
  }
 ],
 "metadata": {
  "kernelspec": {
   "display_name": "Python 3",
   "language": "python",
   "name": "python3"
  },
  "language_info": {
   "codemirror_mode": {
    "name": "ipython",
    "version": 3
   },
   "file_extension": ".py",
   "mimetype": "text/x-python",
   "name": "python",
   "nbconvert_exporter": "python",
   "pygments_lexer": "ipython3",
   "version": "3.7.4"
  }
 },
 "nbformat": 4,
 "nbformat_minor": 2
}
